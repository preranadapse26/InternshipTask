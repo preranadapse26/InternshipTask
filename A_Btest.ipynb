{
  "nbformat": 4,
  "nbformat_minor": 0,
  "metadata": {
    "colab": {
      "provenance": []
    },
    "kernelspec": {
      "name": "python3",
      "display_name": "Python 3"
    },
    "language_info": {
      "name": "python"
    }
  },
  "cells": [
    {
      "cell_type": "markdown",
      "source": [
        "✅ Scenario:\n",
        "\n",
        "You are a product manager for an e-commerce website. You want to test whether changing the \"Add to Cart\" button color from blue to red increases the conversion rate (percentage of visitors who make a purchase).\n"
      ],
      "metadata": {
        "id": "8XUAKBrLULxU"
      }
    },
    {
      "cell_type": "code",
      "execution_count": 1,
      "metadata": {
        "colab": {
          "base_uri": "https://localhost:8080/"
        },
        "id": "hlOhd75fUHn6",
        "outputId": "1efd2cf6-537b-4249-819d-73c81e530a82"
      },
      "outputs": [
        {
          "output_type": "stream",
          "name": "stdout",
          "text": [
            "  group  converted\n",
            "0     A          0\n",
            "1     A          1\n",
            "2     A          0\n",
            "3     A          0\n",
            "4     A          0\n"
          ]
        }
      ],
      "source": [
        "import pandas as pd\n",
        "import numpy as np\n",
        "\n",
        "# Simulate data for 10,000 users\n",
        "np.random.seed(42)\n",
        "\n",
        "# Group A: Control group (Blue button)\n",
        "control_group = pd.DataFrame({\n",
        "    'group': 'A',\n",
        "    'converted': np.random.choice([0, 1], size=5000, p=[0.90, 0.10])  # 10% conversion rate\n",
        "})\n",
        "\n",
        "# Group B: Test group (Red button)\n",
        "test_group = pd.DataFrame({\n",
        "    'group': 'B',\n",
        "    'converted': np.random.choice([0, 1], size=5000, p=[0.88, 0.12])  # 12% conversion rate\n",
        "})\n",
        "\n",
        "# Combine both groups\n",
        "ab_test_data = pd.concat([control_group, test_group], ignore_index=True)\n",
        "\n",
        "# Preview the dataset\n",
        "print(ab_test_data.head())\n"
      ]
    },
    {
      "cell_type": "code",
      "source": [
        "# Check the number of users in each group\n",
        "print(ab_test_data['group'].value_counts())\n",
        "\n",
        "# Calculate the conversion rate for each group\n",
        "conversion_rates = ab_test_data.groupby('group')['converted'].mean()\n",
        "print(\"\\nConversion Rates:\\n\", conversion_rates)\n"
      ],
      "metadata": {
        "colab": {
          "base_uri": "https://localhost:8080/"
        },
        "id": "9S14fUdqUKjg",
        "outputId": "40e9d04c-cbad-4cdf-c92d-bc247aa0a749"
      },
      "execution_count": 2,
      "outputs": [
        {
          "output_type": "stream",
          "name": "stdout",
          "text": [
            "group\n",
            "A    5000\n",
            "B    5000\n",
            "Name: count, dtype: int64\n",
            "\n",
            "Conversion Rates:\n",
            " group\n",
            "A    0.0958\n",
            "B    0.1134\n",
            "Name: converted, dtype: float64\n"
          ]
        }
      ]
    },
    {
      "cell_type": "markdown",
      "source": [
        "Formulate Hypotheses\n",
        "\n",
        "    Null Hypothesis (H₀): There is no difference in conversion rates between the control group (blue button) and the test group (red button).\n",
        "    Alternative Hypothesis (H₁): The conversion rate for the test group (red button) is different from the control group.\n",
        "    "
      ],
      "metadata": {
        "id": "J7R5x8FDU4Fb"
      }
    },
    {
      "cell_type": "code",
      "source": [
        "from scipy.stats import chi2_contingency\n",
        "\n",
        "# Create a contingency table\n",
        "contingency_table = pd.crosstab(ab_test_data['group'], ab_test_data['converted'])\n",
        "\n",
        "# Perform Chi-Square Test\n",
        "chi2, p_value, _, _ = chi2_contingency(contingency_table)\n",
        "\n",
        "print(\"\\nChi-Square Test Statistic:\", chi2)\n",
        "print(\"P-value:\", p_value)\n"
      ],
      "metadata": {
        "colab": {
          "base_uri": "https://localhost:8080/"
        },
        "id": "2p5MljG7UuuS",
        "outputId": "3e31cdcc-39c6-4f19-a306-fc3a16528d7d"
      },
      "execution_count": 3,
      "outputs": [
        {
          "output_type": "stream",
          "name": "stdout",
          "text": [
            "\n",
            "Chi-Square Test Statistic: 8.081458194442725\n",
            "P-value: 0.004472044654175628\n"
          ]
        }
      ]
    },
    {
      "cell_type": "markdown",
      "source": [
        "Interpret the Results\n",
        "p<0.05 statistically significant\n"
      ],
      "metadata": {
        "id": "Wjh_ikd7VTDx"
      }
    },
    {
      "cell_type": "code",
      "source": [
        "control_conversion_rate = conversion_rates['A']\n",
        "test_conversion_rate = conversion_rates['B']\n",
        "\n",
        "# Calculate lift\n",
        "lift = (test_conversion_rate - control_conversion_rate) / control_conversion_rate * 100\n",
        "print(\"\\nLift: {:.2f}%\".format(lift))\n"
      ],
      "metadata": {
        "colab": {
          "base_uri": "https://localhost:8080/"
        },
        "id": "hDmx_4t-VSbY",
        "outputId": "86890ecb-b7fc-4e22-841e-3479f0fc1a63"
      },
      "execution_count": 4,
      "outputs": [
        {
          "output_type": "stream",
          "name": "stdout",
          "text": [
            "\n",
            "Lift: 18.37%\n"
          ]
        }
      ]
    },
    {
      "cell_type": "code",
      "source": [
        "import statsmodels.api as sm\n",
        "\n",
        "# Number of users in each group\n",
        "n_control = control_group.shape[0]\n",
        "n_test = test_group.shape[0]\n",
        "\n",
        "# Conversion counts\n",
        "conv_control = control_group['converted'].sum()\n",
        "conv_test = test_group['converted'].sum()\n",
        "\n",
        "# Proportions\n",
        "p_control = conv_control / n_control\n",
        "p_test = conv_test / n_test\n",
        "\n",
        "# Standard error\n",
        "se = np.sqrt(p_control * (1 - p_control) / n_control + p_test * (1 - p_test) / n_test)\n",
        "\n",
        "# Confidence interval\n",
        "lower_bound = (p_test - p_control) - 1.96 * se\n",
        "upper_bound = (p_test - p_control) + 1.96 * se\n",
        "\n",
        "print(\"\\n95% Confidence Interval: [{:.4f}, {:.4f}]\".format(lower_bound, upper_bound))\n"
      ],
      "metadata": {
        "colab": {
          "base_uri": "https://localhost:8080/"
        },
        "id": "W6f_2FFBVtPG",
        "outputId": "76794a90-28bf-44d0-ea58-4744e4864634"
      },
      "execution_count": 5,
      "outputs": [
        {
          "output_type": "stream",
          "name": "stdout",
          "text": [
            "\n",
            "95% Confidence Interval: [0.0056, 0.0296]\n"
          ]
        }
      ]
    }
  ]
}