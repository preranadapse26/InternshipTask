{
  "nbformat": 4,
  "nbformat_minor": 0,
  "metadata": {
    "colab": {
      "provenance": []
    },
    "kernelspec": {
      "name": "python3",
      "display_name": "Python 3"
    },
    "language_info": {
      "name": "python"
    }
  },
  "cells": [
    {
      "cell_type": "code",
      "source": [
        "\n",
        "import requests\n",
        "import zipfile\n",
        "import io\n",
        "import pandas as pd\n",
        "\n",
        "# Load the dataset\n",
        "url = \"https://archive.ics.uci.edu/ml/machine-learning-databases/00228/smsspamcollection.zip\"\n",
        "\n",
        "# Download the zip file from the URL\n",
        "response = requests.get(url)\n",
        "response.raise_for_status()  # Raise an exception for bad responses (4xx or 5xx)\n",
        "\n",
        "# Read the zip file from the response content\n",
        "with zipfile.ZipFile(io.BytesIO(response.content)) as zip_ref:\n",
        "    # Extract the 'SMSSpamCollection' file\n",
        "    with zip_ref.open('SMSSpamCollection') as file:\n",
        "        # Read the CSV data into a DataFrame\n",
        "        df = pd.read_csv(file, sep='\\t', names=['label', 'message'])\n",
        "\n",
        "# Preview the dataset\n",
        "print(df.head())\n",
        "print(\"\\nDataset Info:\")\n",
        "print(df.info())"
      ],
      "metadata": {
        "colab": {
          "base_uri": "https://localhost:8080/"
        },
        "id": "8ks5l9cQB19U",
        "outputId": "1036ebbf-146d-4f03-848d-c03ea974521e"
      },
      "execution_count": 7,
      "outputs": [
        {
          "output_type": "stream",
          "name": "stdout",
          "text": [
            "  label                                            message\n",
            "0   ham  Go until jurong point, crazy.. Available only ...\n",
            "1   ham                      Ok lar... Joking wif u oni...\n",
            "2  spam  Free entry in 2 a wkly comp to win FA Cup fina...\n",
            "3   ham  U dun say so early hor... U c already then say...\n",
            "4   ham  Nah I don't think he goes to usf, he lives aro...\n",
            "\n",
            "Dataset Info:\n",
            "<class 'pandas.core.frame.DataFrame'>\n",
            "RangeIndex: 5572 entries, 0 to 5571\n",
            "Data columns (total 2 columns):\n",
            " #   Column   Non-Null Count  Dtype \n",
            "---  ------   --------------  ----- \n",
            " 0   label    5572 non-null   object\n",
            " 1   message  5572 non-null   object\n",
            "dtypes: object(2)\n",
            "memory usage: 87.2+ KB\n",
            "None\n"
          ]
        }
      ]
    },
    {
      "cell_type": "code",
      "source": [
        "import nltk\n",
        "from nltk.corpus import stopwords\n",
        "from nltk.tokenize import word_tokenize\n",
        "from nltk.stem import WordNetLemmatizer\n",
        "\n",
        "# Download required NLTK resources\n",
        "nltk.download('punkt')\n",
        "nltk.download('stopwords')\n",
        "nltk.download('wordnet')\n",
        "nltk.download('punkt_tab') # Download the punkt_tab data\n",
        "\n",
        "# Preprocess text function\n",
        "def preprocess_text(text):\n",
        "    tokens = word_tokenize(text.lower())\n",
        "    stop_words = set(stopwords.words('english'))\n",
        "    filtered_tokens = [word for word in tokens if word.isalpha() and word not in stop_words]\n",
        "    lemmatizer = WordNetLemmatizer()\n",
        "    lemmatized_tokens = [lemmatizer.lemmatize(word) for word in filtered_tokens]\n",
        "    return \" \".join(lemmatized_tokens)\n",
        "\n",
        "# Apply preprocessing\n",
        "df['processed_message'] = df['message'].apply(preprocess_text)\n",
        "\n",
        "# Preview preprocessed text\n",
        "print(df[['message', 'processed_message']].head())"
      ],
      "metadata": {
        "colab": {
          "base_uri": "https://localhost:8080/"
        },
        "id": "6PRp6L0MDbxO",
        "outputId": "53c37961-1484-4507-a6f6-2473cd337b0b"
      },
      "execution_count": 9,
      "outputs": [
        {
          "output_type": "stream",
          "name": "stderr",
          "text": [
            "[nltk_data] Downloading package punkt to /root/nltk_data...\n",
            "[nltk_data]   Package punkt is already up-to-date!\n",
            "[nltk_data] Downloading package stopwords to /root/nltk_data...\n",
            "[nltk_data]   Package stopwords is already up-to-date!\n",
            "[nltk_data] Downloading package wordnet to /root/nltk_data...\n",
            "[nltk_data]   Package wordnet is already up-to-date!\n",
            "[nltk_data] Downloading package punkt_tab to /root/nltk_data...\n",
            "[nltk_data]   Unzipping tokenizers/punkt_tab.zip.\n"
          ]
        },
        {
          "output_type": "stream",
          "name": "stdout",
          "text": [
            "                                             message  \\\n",
            "0  Go until jurong point, crazy.. Available only ...   \n",
            "1                      Ok lar... Joking wif u oni...   \n",
            "2  Free entry in 2 a wkly comp to win FA Cup fina...   \n",
            "3  U dun say so early hor... U c already then say...   \n",
            "4  Nah I don't think he goes to usf, he lives aro...   \n",
            "\n",
            "                                   processed_message  \n",
            "0  go jurong point crazy available bugis n great ...  \n",
            "1                            ok lar joking wif u oni  \n",
            "2  free entry wkly comp win fa cup final tkts may...  \n",
            "3                u dun say early hor u c already say  \n",
            "4                nah think go usf life around though  \n"
          ]
        }
      ]
    },
    {
      "cell_type": "code",
      "source": [
        "from sklearn.feature_extraction.text import TfidfVectorizer\n",
        "from sklearn.model_selection import train_test_split\n",
        "from sklearn.naive_bayes import MultinomialNB\n",
        "from sklearn.metrics import accuracy_score, classification_report\n",
        "\n",
        "# Convert text data to TF-IDF features\n",
        "vectorizer = TfidfVectorizer()\n",
        "X = vectorizer.fit_transform(df['processed_message'])\n",
        "y = df['label']\n",
        "\n",
        "# Split the dataset\n",
        "X_train, X_test, y_train, y_test = train_test_split(X, y, test_size=0.3, random_state=42)\n",
        "\n",
        "# Train the Naive Bayes model\n",
        "model = MultinomialNB()\n",
        "model.fit(X_train, y_train)\n",
        "\n",
        "# Make predictions\n",
        "y_pred = model.predict(X_test)\n",
        "\n",
        "# Evaluate the model\n",
        "print(\"Accuracy:\", accuracy_score(y_test, y_pred))\n",
        "print(\"\\nClassification Report:\\n\", classification_report(y_test, y_pred))\n"
      ],
      "metadata": {
        "colab": {
          "base_uri": "https://localhost:8080/"
        },
        "id": "oOO2U2qgDoze",
        "outputId": "e69ec6db-4e18-4496-e207-c6bf5466059a"
      },
      "execution_count": 10,
      "outputs": [
        {
          "output_type": "stream",
          "name": "stdout",
          "text": [
            "Accuracy: 0.9665071770334929\n",
            "\n",
            "Classification Report:\n",
            "               precision    recall  f1-score   support\n",
            "\n",
            "         ham       0.96      1.00      0.98      1448\n",
            "        spam       0.99      0.75      0.86       224\n",
            "\n",
            "    accuracy                           0.97      1672\n",
            "   macro avg       0.98      0.88      0.92      1672\n",
            "weighted avg       0.97      0.97      0.96      1672\n",
            "\n"
          ]
        }
      ]
    },
    {
      "cell_type": "code",
      "source": [
        "from nltk.sentiment import SentimentIntensityAnalyzer\n",
        "\n",
        "# Initialize VADER\n",
        "nltk.download('vader_lexicon')\n",
        "sia = SentimentIntensityAnalyzer()\n",
        "\n",
        "# Apply sentiment analysis\n",
        "df['sentiment_score'] = df['message'].apply(lambda x: sia.polarity_scores(x)['compound'])\n",
        "\n",
        "# Preview sentiment scores\n",
        "print(df[['message', 'sentiment_score']].head())\n"
      ],
      "metadata": {
        "colab": {
          "base_uri": "https://localhost:8080/"
        },
        "id": "Sg6Vf0zUDxon",
        "outputId": "b7dc6d7e-abde-4dd2-9da8-3ee616ab1023"
      },
      "execution_count": 11,
      "outputs": [
        {
          "output_type": "stream",
          "name": "stderr",
          "text": [
            "[nltk_data] Downloading package vader_lexicon to /root/nltk_data...\n"
          ]
        },
        {
          "output_type": "stream",
          "name": "stdout",
          "text": [
            "                                             message  sentiment_score\n",
            "0  Go until jurong point, crazy.. Available only ...           0.6249\n",
            "1                      Ok lar... Joking wif u oni...           0.4767\n",
            "2  Free entry in 2 a wkly comp to win FA Cup fina...           0.7964\n",
            "3  U dun say so early hor... U c already then say...           0.0000\n",
            "4  Nah I don't think he goes to usf, he lives aro...          -0.1027\n"
          ]
        }
      ]
    },
    {
      "cell_type": "code",
      "source": [
        "import spacy\n",
        "\n",
        "# Load the spaCy model\n",
        "nlp = spacy.load(\"en_core_web_sm\")\n",
        "\n",
        "# Apply NER on sample messages\n",
        "for doc in df['message'].head(5):\n",
        "    nlp_doc = nlp(doc)\n",
        "    print(f\"Message: {doc}\")\n",
        "    for ent in nlp_doc.ents:\n",
        "        print(f\" - {ent.text} ({ent.label_})\")\n"
      ],
      "metadata": {
        "colab": {
          "base_uri": "https://localhost:8080/"
        },
        "id": "r5Kv7PnED2pZ",
        "outputId": "6d035ff1-b56e-43e9-8b16-d5a4212174bb"
      },
      "execution_count": 12,
      "outputs": [
        {
          "output_type": "stream",
          "name": "stdout",
          "text": [
            "Message: Go until jurong point, crazy.. Available only in bugis n great world la e buffet... Cine there got amore wat...\n",
            " - jurong point (PERSON)\n",
            "Message: Ok lar... Joking wif u oni...\n",
            "Message: Free entry in 2 a wkly comp to win FA Cup final tkts 21st May 2005. Text FA to 87121 to receive entry question(std txt rate)T&C's apply 08452810075over18's\n",
            " - 2 (CARDINAL)\n",
            " - FA Cup (EVENT)\n",
            " - May 2005 (DATE)\n",
            " - 87121 (CARDINAL)\n",
            " - rate)T&C (DATE)\n",
            " - 08452810075over18 (DATE)\n",
            "Message: U dun say so early hor... U c already then say...\n",
            "Message: Nah I don't think he goes to usf, he lives around here though\n",
            " - Nah (PERSON)\n"
          ]
        }
      ]
    }
  ]
}